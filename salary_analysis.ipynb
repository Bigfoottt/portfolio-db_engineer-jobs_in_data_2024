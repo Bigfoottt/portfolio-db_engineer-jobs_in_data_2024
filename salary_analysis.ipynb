{
 "cells": [
  {
   "cell_type": "markdown",
   "metadata": {},
   "source": [
    "1. Dataset"
   ]
  },
  {
   "cell_type": "code",
   "execution_count": 65,
   "metadata": {},
   "outputs": [],
   "source": [
    "import pandas as pd\n",
    "import os"
   ]
  },
  {
   "cell_type": "code",
   "execution_count": 66,
   "metadata": {},
   "outputs": [],
   "source": [
    "# Load dataset\n",
    "file_path = 'C:/Users/My Msi/Downloads/archive/jobs_in_data_2024.csv'\n",
    "\n",
    "# Baca file CSV dengan menggunakan encoding 'latin1'\n",
    "data = pd.read_csv(file_path, encoding='latin1')"
   ]
  },
  {
   "cell_type": "code",
   "execution_count": 67,
   "metadata": {},
   "outputs": [
    {
     "name": "stdout",
     "output_type": "stream",
     "text": [
      "1. Jumlah data dalam dataset: 14199\n"
     ]
    }
   ],
   "source": [
    "# 1. Jumlah data dalam dataset\n",
    "jumlah_data = len(data)\n",
    "print(\"1. Jumlah data dalam dataset:\", jumlah_data)"
   ]
  },
  {
   "cell_type": "code",
   "execution_count": 68,
   "metadata": {},
   "outputs": [
    {
     "name": "stdout",
     "output_type": "stream",
     "text": [
      "\n",
      "2. Job categories dalam dataset: ['Data Science and Research' 'BI and Visualization'\n",
      " 'Data Architecture and Modeling' 'Data Analysis' 'Data Engineering'\n",
      " 'Leadership and Management' 'Data Quality and Operations'\n",
      " 'Machine Learning and AI' 'Cloud and Database'\n",
      " 'Data Management and Strategy']\n"
     ]
    }
   ],
   "source": [
    "# 2. Job categories yang ada dalam dataset\n",
    "job_categories = data['job_category'].unique()\n",
    "print(\"\\n2. Job categories dalam dataset:\", job_categories)"
   ]
  },
  {
   "cell_type": "code",
   "execution_count": 69,
   "metadata": {},
   "outputs": [
    {
     "name": "stdout",
     "output_type": "stream",
     "text": [
      "\n",
      "3. Rata-rata gaji untuk tiap tingkat pengalaman:\n",
      " experience_level\n",
      "Entry-level     91871.996237\n",
      "Executive      192732.528846\n",
      "Mid-level      124097.241090\n",
      "Senior         163112.277796\n",
      "Name: salary_in_usd, dtype: float64\n"
     ]
    }
   ],
   "source": [
    "# 3. Rata-rata gaji untuk tiap tingkat pengalaman\n",
    "rata_rata_gaji_per_experience = data.groupby('experience_level')['salary_in_usd'].mean()\n",
    "print(\"\\n3. Rata-rata gaji untuk tiap tingkat pengalaman:\\n\", rata_rata_gaji_per_experience)"
   ]
  },
  {
   "cell_type": "code",
   "execution_count": 70,
   "metadata": {},
   "outputs": [
    {
     "name": "stdout",
     "output_type": "stream",
     "text": [
      "\n",
      "4. Negara dengan rata-rata gaji tertinggi dalam mata uang lokal: Qatar\n"
     ]
    }
   ],
   "source": [
    "# 4. Negara dengan rata-rata gaji tertinggi dalam mata uang lokal\n",
    "rata_rata_gaji_per_negara = data.groupby('employee_residence')['salary'].mean()\n",
    "negara_gaji_tertinggi = rata_rata_gaji_per_negara.idxmax()\n",
    "print(\"\\n4. Negara dengan rata-rata gaji tertinggi dalam mata uang lokal:\", negara_gaji_tertinggi)"
   ]
  },
  {
   "cell_type": "code",
   "execution_count": 71,
   "metadata": {},
   "outputs": [
    {
     "name": "stdout",
     "output_type": "stream",
     "text": [
      "\n",
      "5. Korelasi antara ukuran perusahaan dan tingkat pengalaman terhadap gaji:\n",
      "                   company_size  experience_level  salary_in_usd\n",
      "company_size               NaN               NaN            NaN\n",
      "experience_level           NaN               NaN            NaN\n",
      "salary_in_usd              NaN               NaN            1.0\n"
     ]
    }
   ],
   "source": [
    "# Ubah tipe data kolom 'company_size', 'experience_level', 'salary_in_usd' menjadi numerik (jika diperlukan)\n",
    "# jika datanya lebih dari satu yang diubah maka ubah semua\n",
    "data['company_size'] = pd.to_numeric(data['company_size'], errors='coerce')\n",
    "data['experience_level'] = pd.to_numeric(data['experience_level'], errors='coerce')\n",
    "data['salary_in_usd'] = pd.to_numeric(data['salary_in_usd'], errors='coerce')\n",
    "\n",
    "# 5. Korelasi antara ukuran perusahaan dan tingkat pengalaman terhadap gaji\n",
    "korelasi = data[['company_size', 'experience_level', 'salary_in_usd']].corr()\n",
    "print(\"\\n5. Korelasi antara ukuran perusahaan dan tingkat pengalaman terhadap gaji:\\n\", korelasi)"
   ]
  }
 ],
 "metadata": {
  "kernelspec": {
   "display_name": "base",
   "language": "python",
   "name": "python3"
  },
  "language_info": {
   "codemirror_mode": {
    "name": "ipython",
    "version": 3
   },
   "file_extension": ".py",
   "mimetype": "text/x-python",
   "name": "python",
   "nbconvert_exporter": "python",
   "pygments_lexer": "ipython3",
   "version": "3.11.7"
  }
 },
 "nbformat": 4,
 "nbformat_minor": 2
}
